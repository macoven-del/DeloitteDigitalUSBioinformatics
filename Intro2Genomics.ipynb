{
 "cells": [
  {
   "attachments": {},
   "cell_type": "markdown",
   "metadata": {},
   "source": [
    "__MonkeyPox Analysis Pipeline: Cura Lab__"
   ]
  },
  {
   "attachments": {},
   "cell_type": "markdown",
   "metadata": {},
   "source": [
    "__Overview__\n",
    "\n",
    "Mpox (formerly monkeypox) is an infectious disease caused by the mpox virus. It can cause a painful rash, enlarged lymph nodes and fever. Most people fully recover, but some get very sick.\n",
    "\n",
    "The Mpox virus is an enveloped double-stranded DNA virus of the Orthopoxvirus genus in the Poxviridae family, which includes variola, cowpox, vaccinia and other viruses. The two genetic clades of the virus are clades I and II.\n",
    "\n",
    "Viruses often mutate to avoid host immune pressure. These mutations sometimes allow viruses to display different traits, such as higher rates of infectivity or transmission; or facilitate worse symptoms in susceptible individuals. Tracking how viruses change geographically and chronologically can help inform epidemiologists, scientists, and physicians how to best respond to outbreaks, and plan future outbreak responses. \n",
    "\n",
    "Information taken from: https://www.who.int/news-room/fact-sheets/detail/monkeypox\n",
    "\n",
    "__Purpose__\n",
    "\n",
    "In this lab, you will run an analysis and comparison of a recently reported Mpox isolate from the Los Angeles County Public Health Lab microbial pathogen submission group (LACPHL) to an isolate from a recent outbreak in the Canary Islands (https://www.ncbi.nlm.nih.gov/nuccore/ON563414.3?report=fasta). This genome has been used as a reference genome by various groups to quantify and characterize differences between viral isolates post-outbreak. "
   ]
  },
  {
   "attachments": {},
   "cell_type": "markdown",
   "metadata": {},
   "source": [
    "__1. Install Dependencies__"
   ]
  },
  {
   "attachments": {},
   "cell_type": "markdown",
   "metadata": {},
   "source": [
    "In this section, you'll set up your working environment, install all the necessary packages, and clone the necessary repositories for running this analysis and comparison. \n",
    "\n",
    "Codespaces has virtual machines available to use when in Jupyter notebooks. First, hover over \"select kernel\" in the top right. Multiple options should populate, one of which says \"install python and jupyter extensions\". Click this. Once that is complete, click on \"select kernel\" again, and then choose \"Python Environments\". There should be an available Python environment to select. "
   ]
  },
  {
   "attachments": {},
   "cell_type": "markdown",
   "metadata": {},
   "source": [
    "Install mamba"
   ]
  },
  {
   "cell_type": "code",
   "execution_count": null,
   "metadata": {},
   "outputs": [],
   "source": [
    "! curl -L -O https://github.com/conda-forge/miniforge/releases/latest/download/Mambaforge-$(uname)-$(uname -m).sh\n",
    "! bash Mambaforge-$(uname)-$(uname -m).sh -b -p $HOME/mambaforge"
   ]
  },
  {
   "attachments": {},
   "cell_type": "markdown",
   "metadata": {},
   "source": [
    "Add to your PATH"
   ]
  },
  {
   "cell_type": "code",
   "execution_count": null,
   "metadata": {},
   "outputs": [],
   "source": [
    "import os\n",
    "os.environ[\"PATH\"] += os.pathsep + os.environ[\"HOME\"]+\"/mambaforge/bin\""
   ]
  },
  {
   "cell_type": "code",
   "execution_count": null,
   "metadata": {},
   "outputs": [],
   "source": [
    "#configure conda channels\n",
    "! conda config --add channels r\n",
    "! conda config --add channels bioconda\n",
    "! conda config --add channels conda-forge"
   ]
  },
  {
   "cell_type": "code",
   "execution_count": null,
   "metadata": {},
   "outputs": [],
   "source": [
    "#install depedencies\n",
    "! mamba install -y minimap2 samtools lofreq sra-tools fastp\n",
    "! pip install biopython\n",
    "! git clone https://github.com/ncbi/sra-human-scrubber"
   ]
  },
  {
   "cell_type": "code",
   "execution_count": null,
   "metadata": {},
   "outputs": [],
   "source": [
    "#make sure the packages are all installed and up to date\n",
    "! mamba update --all -y\n",
    "! mamba list"
   ]
  },
  {
   "attachments": {},
   "cell_type": "markdown",
   "metadata": {},
   "source": [
    "You can see that all of the packages and repositories that we need to run this pipeline are in our environment, or are available in our directory, respectively."
   ]
  },
  {
   "attachments": {},
   "cell_type": "markdown",
   "metadata": {},
   "source": [
    "__2. Import Necessary Files__"
   ]
  },
  {
   "attachments": {},
   "cell_type": "markdown",
   "metadata": {},
   "source": [
    "Follow these instructions to download the reference sequence from GenBank: \n",
    "\n"
   ]
  },
  {
   "cell_type": "code",
   "execution_count": null,
   "metadata": {},
   "outputs": [],
   "source": [
    "mkdir reference raw_fastq cleaned_fastq mapped_sorted variant_vcf"
   ]
  },
  {
   "cell_type": "code",
   "execution_count": null,
   "metadata": {},
   "outputs": [],
   "source": [
    "import os\n",
    "from Bio import SeqIO\n",
    "from Bio import Entrez\n",
    "#option to create a list of accession numbers, here we just download one reference genome\n",
    "acc_nums=['ON563414']\n",
    "\n",
    "#use the bio.entrez toolkit within biopython to download the accession numbers\n",
    "#save those sequences to a single fasta file\n",
    "Entrez.email = \"email@example.com\"  # Always tell NCBI who you are\n",
    "filename = \"reference/mpox_ON563414.fasta\"\n",
    "if not os.path.isfile(filename):\n",
    "    # Downloading...\n",
    "    for acc in acc_nums:\n",
    "        net_handle = Entrez.efetch(\n",
    "            db=\"nucleotide\", id=acc, rettype=\"fasta\", retmode=\"text\"\n",
    "        )\n",
    "        out_handle = open(filename, \"a\")\n",
    "        out_handle.write(net_handle.read())\n",
    "        out_handle.close()\n",
    "        net_handle.close()\n",
    "        print(\"Saved\",acc)\n"
   ]
  },
  {
   "cell_type": "code",
   "execution_count": null,
   "metadata": {},
   "outputs": [],
   "source": [
    "# make sure the fasta file is present in the reference folder\n",
    "! ls reference/*"
   ]
  },
  {
   "attachments": {},
   "cell_type": "markdown",
   "metadata": {},
   "source": [
    "Alternatively, you can manually download like this:\n",
    "+ Browse to GenBank.\n",
    "+ Select 'Nucleotide' from the combo box.  \n",
    "+ Fill in the accession code of the sequence you want to download (i.e. ON563414, found here: https://www.ncbi.nlm.nih.gov/nuccore/ON563414.3?report=fasta) or just write the name of the species (i.e. Monkeypox, and then click on a certain accession code you are interested in).  \n",
    "+ Click on 'FASTA' link  \n",
    "+ Click on 'Send to' on the upper right part of the screen.  \n",
    "+ Select the option 'file'.  \n",
    "+ Select 'FASTA' as download format.  \n",
    "+ Click on 'Generate' button. \n",
    "\n",
    "Once the sequence is downloaded, right click on your notebook folder, choose \"Upload\", find your reference sequence.fasta file and upload it. It should appear to the left in your directory."
   ]
  },
  {
   "attachments": {},
   "cell_type": "markdown",
   "metadata": {},
   "source": [
    "We are going to download the sra compressed format file directly from AWS using [this link](https://trace.ncbi.nlm.nih.gov/Traces/?view=run_browser&acc=SRR23893269&display=data-access)"
   ]
  },
  {
   "cell_type": "code",
   "execution_count": null,
   "metadata": {},
   "outputs": [],
   "source": [
    "! wget https://sra-pub-run-odp.s3.amazonaws.com/sra/SRR23893269/SRR23893269 --no-check-certificate"
   ]
  },
  {
   "cell_type": "code",
   "execution_count": null,
   "metadata": {},
   "outputs": [],
   "source": [
    "#convert the compressed format to Fastq\n",
    "! fasterq-dump -O raw_fastq SRR23893269"
   ]
  },
  {
   "attachments": {},
   "cell_type": "markdown",
   "metadata": {},
   "source": [
    "You can see that we now have three fasta/q files in our directory: a reference sequence, and two fastq sequences from the isolate."
   ]
  },
  {
   "cell_type": "code",
   "execution_count": null,
   "metadata": {},
   "outputs": [],
   "source": [
    "#print the first few lines of each file for inspection\n",
    "! head -20 reference/mpox_ON563414.fasta \n",
    "! head -10 raw_fastq/SRR23893269_1.fastq\n",
    "! head -10 raw_fastq/SRR23893269_1.fastq\n"
   ]
  },
  {
   "attachments": {},
   "cell_type": "markdown",
   "metadata": {},
   "source": [
    "You can see above the difference between the fasta (first file) and the two fastq (bottom two) files. The fasta file has some identifying information and then the raw sequence information, and the two fastq files include the sequence information with accompanying quality information about the sequences. "
   ]
  },
  {
   "attachments": {},
   "cell_type": "markdown",
   "metadata": {},
   "source": [
    "__3. FASTQ Aggregation and Interleaving Using FASTP__"
   ]
  },
  {
   "attachments": {},
   "cell_type": "markdown",
   "metadata": {},
   "source": [
    "In this step, you use the FASTP package to perform quality control and filtering of the reads in both files, and then interleaving (combining) of the two into one file. "
   ]
  },
  {
   "cell_type": "code",
   "execution_count": null,
   "metadata": {},
   "outputs": [],
   "source": [
    "#uses fastp to merge the two input fastq files of the variant while simultaneously filtering the reads for quality control\n",
    "! fastp --merge --in1 raw_fastq/SRR23893269_1.fastq --in2 raw_fastq/SRR23893269_2.fastq --merged_out cleaned_fastq/SRR23893269_cleaned_interleaved.fastq"
   ]
  },
  {
   "attachments": {},
   "cell_type": "markdown",
   "metadata": {},
   "source": [
    "__4. Human Reads Scrubbing__"
   ]
  },
  {
   "attachments": {},
   "cell_type": "markdown",
   "metadata": {},
   "source": [
    "Because you are aligning and analyzing viral genomes, a good step in this particular pipeline is to perform \"scrubbing\" of your isolate files to make sure that there are no human reads mixed in with the viral genome reads. This step checks and cleanses your files of human reads. "
   ]
  },
  {
   "cell_type": "code",
   "execution_count": null,
   "metadata": {},
   "outputs": [],
   "source": [
    "%%bash\n",
    "#pre-processing command to add in a human reads database to check for the human reads\n",
    "cd /workspaces/DeloitteBioinformatics/sra-human-scrubber\n",
    "/workspaces/DeloitteBioinformatics/sra-human-scrubber/init_db.sh"
   ]
  },
  {
   "cell_type": "code",
   "execution_count": null,
   "metadata": {},
   "outputs": [],
   "source": [
    "%%bash\n",
    "#change directories to access the scrubbing script and run it on your interleaved fastq file\n",
    "cd /workspaces/DeloitteBioinformatics/sra-human-scrubber/scripts\n",
    "/workspaces/DeloitteBioinformatics/sra-human-scrubber/scripts/scrub.sh -i /workspaces/DeloitteBioinformatics/cleaned_fastq/SRR23893269_cleaned_interleaved.fastq -o /workspaces/DeloitteBioinformatics/cleaned_fastq/cleaned_interleaved_scrubbed.fastq"
   ]
  },
  {
   "attachments": {},
   "cell_type": "markdown",
   "metadata": {},
   "source": [
    "__5. Mappying Reads to the Reference Genome__"
   ]
  },
  {
   "attachments": {},
   "cell_type": "markdown",
   "metadata": {},
   "source": [
    "Now that the reads are quality controlled, interleaved, and scrubbed on human reads, you can align your isolate fastq to your reference genome."
   ]
  },
  {
   "cell_type": "code",
   "execution_count": null,
   "metadata": {},
   "outputs": [],
   "source": [
    "#mapping non-human reads to the reference sequence using minimap2\n",
    "! minimap2 -ax sr reference/mpox_ON563414.fasta cleaned_fastq/cleaned_interleaved_scrubbed.fastq > mapped_sorted/aligned.sam"
   ]
  },
  {
   "attachments": {},
   "cell_type": "markdown",
   "metadata": {},
   "source": [
    "__6. Sort and Index Aligned Reads__"
   ]
  },
  {
   "attachments": {},
   "cell_type": "markdown",
   "metadata": {},
   "source": [
    "In this step, you sort and index your aligned reads using a package called samtools."
   ]
  },
  {
   "cell_type": "code",
   "execution_count": null,
   "metadata": {},
   "outputs": [],
   "source": [
    "#sort and index aligned reads\n",
    "! samtools sort mapped_sorted/aligned.sam > mapped_sorted/aligned_sorted.bam"
   ]
  },
  {
   "cell_type": "code",
   "execution_count": null,
   "metadata": {},
   "outputs": [],
   "source": [
    "#discard unmapped reads from sorted BAM file\n",
    "! samtools view -F 0x04 -b mapped_sorted/aligned_sorted.bam > mapped_sorted/aligned_sorted_mapped.bam"
   ]
  },
  {
   "cell_type": "code",
   "execution_count": null,
   "metadata": {},
   "outputs": [],
   "source": [
    "#index BAM file\n",
    "! samtools index mapped_sorted/aligned_sorted_mapped.bam"
   ]
  },
  {
   "attachments": {},
   "cell_type": "markdown",
   "metadata": {},
   "source": [
    "__7. Variant Calling__"
   ]
  },
  {
   "attachments": {},
   "cell_type": "markdown",
   "metadata": {},
   "source": [
    "In this last step, we will call all of the variants found in our isolate file and inspect them in comparison to the reference file."
   ]
  },
  {
   "cell_type": "code",
   "execution_count": null,
   "metadata": {},
   "outputs": [],
   "source": [
    "%%bash\n",
    "#variant calling\n",
    "lofreq call -f reference/mpox_ON563414.fasta -o variant_vcf/variants.vcf mapped_sorted/aligned_sorted_mapped.bam"
   ]
  },
  {
   "cell_type": "code",
   "execution_count": null,
   "metadata": {},
   "outputs": [],
   "source": [
    "! head -50 variant_vcf/variants.vcf"
   ]
  },
  {
   "attachments": {},
   "cell_type": "markdown",
   "metadata": {},
   "source": [
    "You can see that there are quite a few changes between the isolate we used and the 'reference' genome from a previous outbreak (comparing the entries in the REF and ALT column, columns 4 and 5 respectively)."
   ]
  },
  {
   "attachments": {},
   "cell_type": "markdown",
   "metadata": {},
   "source": [
    "__Conclusion and References__"
   ]
  },
  {
   "attachments": {},
   "cell_type": "markdown",
   "metadata": {},
   "source": [
    "In this lab, you processed some publically available MNPX fastq files and compared the sequence of this isolate to another publically available MNPX genome from a previous outbreak in 2022. Great job!\n",
    "\n",
    "This pipeline was built utilizing this MNPX analysis as a framework: https://github.com/genomicsITER/monkeypox. "
   ]
  },
  {
   "attachments": {},
   "cell_type": "markdown",
   "metadata": {},
   "source": [
    "__Troubleshooting__"
   ]
  },
  {
   "attachments": {},
   "cell_type": "markdown",
   "metadata": {},
   "source": [
    "You should not need to install conda, as the python environment that comes with codespaces should already have it installed. In instances where you need to install it, please use the following code (will also work if you are trying to run this notebook in another platform, like Google Colab)."
   ]
  },
  {
   "cell_type": "code",
   "execution_count": null,
   "metadata": {},
   "outputs": [],
   "source": [
    "#install miniconda\n",
    "!MINICONDA_INSTALLER_SCRIPT=Miniconda3-latest-Linux-x86_64.sh\n",
    "!MINICONDA_PREFIX=/usr/local\n",
    "!wget https://repo.anaconda.com/miniconda/Miniconda3-latest-Linux-x86_64.sh\n",
    "!chmod +x $MINICONDA_INSTALLER_SCRIPT\n",
    "!./$MINICONDA_INSTALLER_SCRIPT -b -f -p $MINICONDA_PREFIX"
   ]
  },
  {
   "cell_type": "code",
   "execution_count": null,
   "metadata": {},
   "outputs": [],
   "source": []
  }
 ],
 "metadata": {
  "kernelspec": {
   "display_name": "Python 3 (ipykernel)",
   "language": "python",
   "name": "python3"
  },
  "language_info": {
   "codemirror_mode": {
    "name": "ipython",
    "version": 3
   },
   "file_extension": ".py",
   "mimetype": "text/x-python",
   "name": "python",
   "nbconvert_exporter": "python",
   "pygments_lexer": "ipython3",
   "version": "3.10.4"
  }
 },
 "nbformat": 4,
 "nbformat_minor": 2
}
